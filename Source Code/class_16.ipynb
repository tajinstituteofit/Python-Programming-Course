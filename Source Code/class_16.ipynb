{
 "cells": [
  {
   "cell_type": "markdown",
   "metadata": {},
   "source": [
    "## Dictionary"
   ]
  },
  {
   "cell_type": "code",
   "execution_count": null,
   "metadata": {},
   "outputs": [
    {
     "name": "stdout",
     "output_type": "stream",
     "text": [
      "{'color': 'yellow', 'points': '10', 'speed': 'fast'}\n",
      "{'color': 'yellow', 'points': '10', 'speed': 'fast'}\n",
      "{'color': 'yellow', 'points': '10', 'speed': 'fast'}\n",
      "{'color': 'yellow', 'points': '10', 'speed': 'fast'}\n",
      "{'color': 'yellow', 'points': '10', 'speed': 'fast'}\n"
     ]
    }
   ],
   "source": [
    "cde = []\n",
    "\n",
    "for m in range(30):\n",
    "    new_alien = {'color': 'green', 'points': 5, 'speed': 'slow'}\n",
    "    cde.append(new_alien)\n",
    "for s in cde[:5]:\n",
    "    if s['color'] == 'green':\n",
    "        s['color'] = \"yellow\"\n",
    "        s['points'] = 10\n",
    "        s['speed'] = 'fast'\n",
    "\n",
    "    elif s['color'] == 'yellow':\n",
    "         s['color'] = 'red'\n",
    "         s['speed'] = 'fast'\n",
    "         s['points'] = 15\n",
    "    print(s)\n"
   ]
  },
  {
   "cell_type": "code",
   "execution_count": 17,
   "metadata": {},
   "outputs": [
    {
     "name": "stdout",
     "output_type": "stream",
     "text": [
      "You ordered a thick-crust pizza with the following toppings:\n",
      "\n",
      "mushrooms\n",
      "\n",
      "\n",
      "extra cheese\n",
      "\n"
     ]
    }
   ],
   "source": [
    "pizza = {\n",
    "    'crust': \"thick\",\n",
    "    'toppings': [\"mushrooms\", \"extra cheese\"]\n",
    "}\n",
    "\n",
    "print(f\"You ordered a {pizza['crust']}-crust pizza \"\n",
    "\"with the following toppings:\")\n",
    "\n",
    "\n",
    "for topping in pizza['toppings']:\n",
    "    print(f\"\\n{topping}\\n\")"
   ]
  },
  {
   "cell_type": "code",
   "execution_count": null,
   "metadata": {},
   "outputs": [
    {
     "name": "stdout",
     "output_type": "stream",
     "text": [
      "\n",
      "Jen's favorite languages are: ['python', 'rust']\n",
      "\n",
      "Sarah's favorite languages are: ['c']\n",
      "\n",
      "Edward's favorite languages are: ['rust', 'go']\n",
      "\n",
      "Phil's favorite languages are: ['python', 'haskell']\n"
     ]
    }
   ],
   "source": [
    "favorite_languages = {\n",
    "'jen': ['python', 'rust'],\n",
    "'sarah': ['c'],\n",
    "'edward': ['rust', 'go'],\n",
    "'phil': ['python', 'haskell'],\n",
    "}\n",
    "for key, value in favorite_languages.items():\n",
    "    print(f\"\\n{key.title()}'s favorite languages are: {value}\")\n",
    "    for language in value:\n",
    "            print(f\"\\t{language.title()}\")\n",
    "            "
   ]
  },
  {
   "cell_type": "code",
   "execution_count": null,
   "metadata": {},
   "outputs": [],
   "source": []
  }
 ],
 "metadata": {
  "kernelspec": {
   "display_name": "base",
   "language": "python",
   "name": "python3"
  },
  "language_info": {
   "codemirror_mode": {
    "name": "ipython",
    "version": 3
   },
   "file_extension": ".py",
   "mimetype": "text/x-python",
   "name": "python",
   "nbconvert_exporter": "python",
   "pygments_lexer": "ipython3",
   "version": "3.12.4"
  }
 },
 "nbformat": 4,
 "nbformat_minor": 2
}
