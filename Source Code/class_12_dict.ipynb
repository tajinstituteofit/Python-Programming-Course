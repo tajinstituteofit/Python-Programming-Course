{
 "cells": [
  {
   "cell_type": "markdown",
   "metadata": {},
   "source": [
    "##  DICTIONARIES"
   ]
  },
  {
   "cell_type": "markdown",
   "metadata": {},
   "source": [
    "### \n",
    "a = ()    # Tuple\n",
    "b = []    # List\n",
    "c = {'keys':'values'}   # dictionary"
   ]
  },
  {
   "cell_type": "code",
   "execution_count": 4,
   "metadata": {},
   "outputs": [
    {
     "name": "stdout",
     "output_type": "stream",
     "text": [
      "green\n",
      "5\n"
     ]
    }
   ],
   "source": [
    "\n",
    "alien_0 = {'color': 'green', 'points': 5}\n",
    "\n",
    "print(alien_0 ['color'])\n",
    "print(alien_0['points'])\n"
   ]
  },
  {
   "cell_type": "code",
   "execution_count": null,
   "metadata": {},
   "outputs": [
    {
     "name": "stdout",
     "output_type": "stream",
     "text": [
      "green\n"
     ]
    }
   ],
   "source": [
    "alien_0 = {'color': 'greens'}\n",
    "print(alien_0['color'])"
   ]
  },
  {
   "cell_type": "code",
   "execution_count": 6,
   "metadata": {},
   "outputs": [
    {
     "name": "stdout",
     "output_type": "stream",
     "text": [
      "The value of points is 5\n"
     ]
    }
   ],
   "source": [
    "\n",
    "alien_0 = {'color': 'green', 'points': 5}\n",
    "\n",
    "result = alien_0['points']\n",
    "\n",
    "print(f\"The value of points is {result}\")"
   ]
  },
  {
   "cell_type": "code",
   "execution_count": 10,
   "metadata": {},
   "outputs": [
    {
     "name": "stdout",
     "output_type": "stream",
     "text": [
      "{'students': 10, 'house': 'Islamabad'}\n",
      "{'students': 10, 'house': 'Islamabad', 'class': 'python', 'laptop': 'Hp/Dell'}\n"
     ]
    }
   ],
   "source": [
    "abc = {'students': 10 , 'house': 'Islamabad'}\n",
    "print(abc)\n",
    "\n",
    "abc['class'] = 'python'\n",
    "abc['laptop'] = 'Hp/Dell'\n",
    "\n",
    "print(abc)"
   ]
  },
  {
   "cell_type": "code",
   "execution_count": 12,
   "metadata": {},
   "outputs": [
    {
     "name": "stdout",
     "output_type": "stream",
     "text": [
      "{}\n",
      "{'class': 'python', 'laptop': 'Hp/Dell'}\n"
     ]
    }
   ],
   "source": [
    "cde = {}\n",
    "print(cde)\n",
    "\n",
    "cde['class'] = 'python'\n",
    "cde['laptop'] = 'Hp/Dell'\n",
    "\n",
    "print(cde)"
   ]
  },
  {
   "cell_type": "code",
   "execution_count": 13,
   "metadata": {},
   "outputs": [
    {
     "name": "stdout",
     "output_type": "stream",
     "text": [
      "The keys and value of students is :{'name': 'arslan', 'school': 'Roots'}\n",
      "The update data of student is: {'name': 'usama', 'school': 'Roots'}\n"
     ]
    }
   ],
   "source": [
    "student = {'name': 'arslan', 'school': 'Roots'}\n",
    "print(f\"The keys and value of students is :{student}\")\n",
    "\n",
    "student['name'] = 'usama'\n",
    "print(f\"The update data of student is: {student}\")"
   ]
  },
  {
   "cell_type": "code",
   "execution_count": 14,
   "metadata": {},
   "outputs": [
    {
     "name": "stdout",
     "output_type": "stream",
     "text": [
      "{'student': 'yasir', 'marks': 50}\n",
      "{'student': 'yasir', 'marks': 100}\n",
      "{'student': 'yasir', 'marks': 100, 'Grade': 'A'}\n"
     ]
    }
   ],
   "source": [
    "xyz = {'student': 'yasir', 'marks': 50}\n",
    "print(xyz)\n",
    "xyz['marks'] = 100\n",
    "print(xyz)\n",
    "\n",
    "xyz['Grade'] = 'A'\n",
    "print(xyz)"
   ]
  },
  {
   "cell_type": "code",
   "execution_count": null,
   "metadata": {},
   "outputs": [
    {
     "name": "stdout",
     "output_type": "stream",
     "text": [
      "Orignal positions: {'x-position': 0, 'y-position': 25, 'speed': 'medium'}\n",
      "New position: 27\n"
     ]
    }
   ],
   "source": [
    "alien_1 = {'x-position': 0, 'y-position': 25, 'speed': \"medium\"}\n",
    "print(f\"Orignal positions: {alien_1}\")\n",
    "\n",
    "if alien_1['speed'] == 'slow':\n",
    "    x_increment = 1\n",
    "\n",
    "elif alien_1['speed'] == \"medium\":\n",
    "    x_increment = 2\n",
    "else:\n",
    "    x_increment = 3\n",
    "\n",
    "alien_1['y-position'] = alien_1['y-position'] + x_increment\n",
    "print(f\"New position: {alien_1['y-position']}\")"
   ]
  }
 ],
 "metadata": {
  "kernelspec": {
   "display_name": "base",
   "language": "python",
   "name": "python3"
  },
  "language_info": {
   "codemirror_mode": {
    "name": "ipython",
    "version": 3
   },
   "file_extension": ".py",
   "mimetype": "text/x-python",
   "name": "python",
   "nbconvert_exporter": "python",
   "pygments_lexer": "ipython3",
   "version": "3.12.4"
  }
 },
 "nbformat": 4,
 "nbformat_minor": 2
}
