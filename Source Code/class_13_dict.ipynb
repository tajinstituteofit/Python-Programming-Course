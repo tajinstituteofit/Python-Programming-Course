{
 "cells": [
  {
   "cell_type": "markdown",
   "metadata": {},
   "source": [
    "## Removing Key-Value Pairs"
   ]
  },
  {
   "cell_type": "code",
   "execution_count": 1,
   "metadata": {},
   "outputs": [
    {
     "name": "stdout",
     "output_type": "stream",
     "text": [
      "{'color': 'green', 'points': 5}\n",
      "{'color': 'green'}\n"
     ]
    }
   ],
   "source": [
    "alien_0 = {'color': 'green', 'points': 5}\n",
    "print(alien_0)\n",
    "\n",
    "del alien_0['points']\n",
    "print(alien_0)"
   ]
  },
  {
   "cell_type": "code",
   "execution_count": 4,
   "metadata": {},
   "outputs": [
    {
     "name": "stdout",
     "output_type": "stream",
     "text": [
      "Sarah favourite language is : C\n"
     ]
    }
   ],
   "source": [
    "favorite_languages = {\n",
    "'jen': 'python',\n",
    "'sarah': 'c',\n",
    "'edward': 'rust',\n",
    "'phil': 'python',\n",
    "}\n",
    "\n",
    "language = favorite_languages['sarah'].title()\n",
    "print(f\"Sarah favourite language is : {language}\")\n"
   ]
  },
  {
   "cell_type": "code",
   "execution_count": 7,
   "metadata": {},
   "outputs": [
    {
     "name": "stdout",
     "output_type": "stream",
     "text": [
      "Sarah favourite language is: C\n"
     ]
    }
   ],
   "source": [
    "favorite_languages = {\n",
    "'jen': 'python',\n",
    "'sarah': 'c',\n",
    "'edward': 'rust',\n",
    "'phil': 'python',\n",
    "}\n",
    "\n",
    "print(f\"Sarah favourite language is: {favorite_languages['sarah'].title()}\")"
   ]
  },
  {
   "cell_type": "code",
   "execution_count": 9,
   "metadata": {},
   "outputs": [
    {
     "ename": "KeyError",
     "evalue": "'ali'",
     "output_type": "error",
     "traceback": [
      "\u001b[0;31m---------------------------------------------------------------------------\u001b[0m",
      "\u001b[0;31mKeyError\u001b[0m                                  Traceback (most recent call last)",
      "Cell \u001b[0;32mIn[9], line 1\u001b[0m\n\u001b[0;32m----> 1\u001b[0m \u001b[38;5;28mprint\u001b[39m(favorite_languages[\u001b[38;5;124m'\u001b[39m\u001b[38;5;124mali\u001b[39m\u001b[38;5;124m'\u001b[39m])\n",
      "\u001b[0;31mKeyError\u001b[0m: 'ali'"
     ]
    }
   ],
   "source": [
    "print(favorite_languages['ali'])"
   ]
  },
  {
   "cell_type": "code",
   "execution_count": 10,
   "metadata": {},
   "outputs": [
    {
     "name": "stdout",
     "output_type": "stream",
     "text": [
      "No point value assigned.\n"
     ]
    }
   ],
   "source": [
    "alien_0 = {'color': 'green', 'speed': 'slow'}\n",
    "\n",
    "point_value = alien_0.get('points', 'No point value assigned.')\n",
    "print(point_value)"
   ]
  },
  {
   "cell_type": "code",
   "execution_count": 11,
   "metadata": {},
   "outputs": [
    {
     "name": "stdout",
     "output_type": "stream",
     "text": [
      "green\n"
     ]
    }
   ],
   "source": [
    "abc = alien_0.get('color', 'No point value assigned.')\n",
    "print(abc)"
   ]
  },
  {
   "cell_type": "code",
   "execution_count": 14,
   "metadata": {},
   "outputs": [
    {
     "name": "stdout",
     "output_type": "stream",
     "text": [
      "No point value assigned.\n"
     ]
    }
   ],
   "source": [
    "abc = alien_0.get('colors', 'No point value assigned.')\n",
    "print(abc)"
   ]
  },
  {
   "cell_type": "code",
   "execution_count": 15,
   "metadata": {},
   "outputs": [
    {
     "name": "stdout",
     "output_type": "stream",
     "text": [
      "The keys of user is: name\n",
      "The keys of user is: fathername\n",
      "The keys of user is: age\n",
      "The keys of user is: gender\n"
     ]
    }
   ],
   "source": [
    "user = {\n",
    "    'name': 'Nasir',\n",
    "    'fathername': 'usama Nasir',\n",
    "    'age': 35,\n",
    "    'gender': 'Male',\n",
    "}\n",
    "\n",
    "for abc in user.keys():\n",
    "    print(f'The keys of user is: {abc}')\n"
   ]
  },
  {
   "cell_type": "code",
   "execution_count": 16,
   "metadata": {},
   "outputs": [
    {
     "name": "stdout",
     "output_type": "stream",
     "text": [
      "The values of user is:Nasir\n",
      "The values of user is:usama Nasir\n",
      "The values of user is:35\n",
      "The values of user is:Male\n"
     ]
    }
   ],
   "source": [
    "for abc in user.values():\n",
    "    print(f\"The values of user is:{abc}\")"
   ]
  },
  {
   "cell_type": "code",
   "execution_count": 22,
   "metadata": {},
   "outputs": [
    {
     "name": "stdout",
     "output_type": "stream",
     "text": [
      "The first name is: name  \n",
      "The first name is: fathername  \n"
     ]
    }
   ],
   "source": [
    "user = {\n",
    "    'name': 'Nasir',\n",
    "    'fathername': 'usama Nasir',\n",
    "    \n",
    "}\n",
    "\n",
    "for keys in user.keys():\n",
    "    print(f\"The first name is: {keys}  \")"
   ]
  },
  {
   "cell_type": "code",
   "execution_count": null,
   "metadata": {},
   "outputs": [
    {
     "name": "stdout",
     "output_type": "stream",
     "text": [
      "The value of user is: Nasir\n"
     ]
    }
   ],
   "source": [
    "user = {\n",
    "    'name': 'Nasir',\n",
    "    'fathername': 'usama Nasir',\n",
    "    \n",
    "}\n",
    "\n",
    "for abc, cde in user.items():\n",
    "    if abc == 'name':\n",
    "        print(f\"The value of user is: {cde}\")\n",
    "\n",
    "\n"
   ]
  },
  {
   "cell_type": "code",
   "execution_count": 24,
   "metadata": {},
   "outputs": [
    {
     "name": "stdout",
     "output_type": "stream",
     "text": [
      "Your first name is firstname\n"
     ]
    }
   ],
   "source": [
    "abc = {\n",
    "    'firstname': 'Mohammad',\n",
    "    'lastname': 'ALi'\n",
    "}\n",
    "\n",
    "for keys in abc.keys():\n",
    "    if keys == 'firstname':\n",
    "        print(f\"Your first name is {keys}\")"
   ]
  },
  {
   "cell_type": "code",
   "execution_count": null,
   "metadata": {},
   "outputs": [
    {
     "name": "stdout",
     "output_type": "stream",
     "text": [
      "Your last name is ali\n",
      "Your last name is ali\n"
     ]
    }
   ],
   "source": [
    "abc = {\n",
    "    'firstnam': 'Mohammad',\n",
    "    'lastname': 'ALi'\n",
    "}\n",
    "\n",
    "for keys in abc.keys():\n",
    "    if keys == 'firstname':\n",
    "        print(f\"Your first name is {keys}\")\n",
    "    else:\n",
    "        print(\"Your last name is ali\")  "
   ]
  }
 ],
 "metadata": {
  "kernelspec": {
   "display_name": "base",
   "language": "python",
   "name": "python3"
  },
  "language_info": {
   "codemirror_mode": {
    "name": "ipython",
    "version": 3
   },
   "file_extension": ".py",
   "mimetype": "text/x-python",
   "name": "python",
   "nbconvert_exporter": "python",
   "pygments_lexer": "ipython3",
   "version": "3.12.4"
  }
 },
 "nbformat": 4,
 "nbformat_minor": 2
}
